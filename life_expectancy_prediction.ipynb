{
 "cells": [
  {
   "cell_type": "markdown",
   "id": "609fa35b-a2a2-4f27-a25c-02376b4004f6",
   "metadata": {},
   "source": "## Data preprocessing"
  },
  {
   "metadata": {},
   "cell_type": "markdown",
   "source": "Loading and Initial Exploration of the Dataset",
   "id": "a5c27a8176b7772f"
  },
  {
   "cell_type": "code",
   "id": "78ccf7c4-bb0d-4b2b-b58b-56c6c00f219b",
   "metadata": {
    "ExecuteTime": {
     "end_time": "2024-12-15T15:25:17.438448Z",
     "start_time": "2024-12-15T15:25:15.434956Z"
    }
   },
   "source": [
    "import pandas as pd\n",
    "import matplotlib.pyplot as plt"
   ],
   "outputs": [],
   "execution_count": 1
  },
  {
   "metadata": {
    "ExecuteTime": {
     "end_time": "2024-12-15T15:25:17.508477Z",
     "start_time": "2024-12-15T15:25:17.459453Z"
    }
   },
   "cell_type": "code",
   "outputs": [
    {
     "name": "stdout",
     "output_type": "stream",
     "text": [
      "<class 'pandas.core.frame.DataFrame'>\n",
      "RangeIndex: 2718 entries, 0 to 2717\n",
      "Data columns (total 22 columns):\n",
      " #   Column                           Non-Null Count  Dtype  \n",
      "---  ------                           --------------  -----  \n",
      " 0   Country                          2718 non-null   object \n",
      " 1   Year                             2718 non-null   int64  \n",
      " 2   Status                           2718 non-null   object \n",
      " 3   Life expectancy                  2718 non-null   float64\n",
      " 4   Adult Mortality                  2718 non-null   float64\n",
      " 5   infant deaths                    2718 non-null   int64  \n",
      " 6   Alcohol                          2558 non-null   float64\n",
      " 7   percentage expenditure           2718 non-null   float64\n",
      " 8   Hepatitis B                      2187 non-null   float64\n",
      " 9   Measles                          2718 non-null   int64  \n",
      " 10  BMI                              2686 non-null   float64\n",
      " 11  under-five deaths                2718 non-null   int64  \n",
      " 12  Polio                            2699 non-null   float64\n",
      " 13  Total expenditure                2526 non-null   float64\n",
      " 14  Diphtheria                       2699 non-null   float64\n",
      " 15  HIV/AIDS                         2718 non-null   float64\n",
      " 16  GDP                              2311 non-null   float64\n",
      " 17  Population                       2104 non-null   float64\n",
      " 18  thinness  1-19 years             2686 non-null   float64\n",
      " 19  thinness 5-9 years               2686 non-null   float64\n",
      " 20  Income composition of resources  2570 non-null   float64\n",
      " 21  Schooling                        2570 non-null   float64\n",
      "dtypes: float64(16), int64(4), object(2)\n",
      "memory usage: 467.3+ KB\n"
     ]
    },
    {
     "data": {
      "text/plain": [
       "None"
      ]
     },
     "metadata": {},
     "output_type": "display_data"
    },
    {
     "data": {
      "text/plain": [
       "Country                             183\n",
       "Year                                 16\n",
       "Status                                2\n",
       "Life expectancy                     359\n",
       "Adult Mortality                     422\n",
       "infant deaths                       203\n",
       "Alcohol                            1043\n",
       "percentage expenditure             2177\n",
       "Hepatitis B                          87\n",
       "Measles                             926\n",
       "BMI                                 593\n",
       "under-five deaths                   248\n",
       "Polio                                73\n",
       "Total expenditure                   798\n",
       "Diphtheria                           81\n",
       "HIV/AIDS                            200\n",
       "GDP                                2311\n",
       "Population                         2098\n",
       "thinness  1-19 years                200\n",
       "thinness 5-9 years                  207\n",
       "Income composition of resources     613\n",
       "Schooling                           173\n",
       "dtype: int64"
      ]
     },
     "metadata": {},
     "output_type": "display_data"
    }
   ],
   "execution_count": 2,
   "source": [
    "data = pd.read_csv('data.csv')\n",
    "display(data.info())\n",
    "display(data.nunique())"
   ],
   "id": "7832fb47-131c-409c-a73c-d8074e6faa10"
  },
  {
   "metadata": {},
   "cell_type": "markdown",
   "source": "Converting Object Columns to Categorical Numeric Codes",
   "id": "4e78de04547c2d3d"
  },
  {
   "cell_type": "code",
   "id": "b881e428-3192-46e5-82d8-7a1d1b38de16",
   "metadata": {
    "ExecuteTime": {
     "end_time": "2024-12-15T15:25:17.664824Z",
     "start_time": "2024-12-15T15:25:17.655874Z"
    }
   },
   "source": [
    "object_columns = data.select_dtypes(['object']).columns\n",
    "data[object_columns] = data[object_columns].astype('category').apply(lambda x: x.cat.codes)"
   ],
   "outputs": [],
   "execution_count": 3
  },
  {
   "metadata": {
    "ExecuteTime": {
     "end_time": "2024-12-15T15:25:17.790360Z",
     "start_time": "2024-12-15T15:25:17.755092Z"
    }
   },
   "cell_type": "code",
   "source": [
    "display(data.head())\n",
    "display(data.info())"
   ],
   "id": "f1de801e-8416-4657-b051-c39318b28937",
   "outputs": [
    {
     "data": {
      "text/plain": [
       "   Country  Year  Status  Life expectancy  Adult Mortality  infant deaths  \\\n",
       "0        0  2015       1             65.0            263.0             62   \n",
       "1        0  2014       1             59.9            271.0             64   \n",
       "2        0  2013       1             59.9            268.0             66   \n",
       "3        0  2012       1             59.5            272.0             69   \n",
       "4        0  2011       1             59.2            275.0             71   \n",
       "\n",
       "   Alcohol  percentage expenditure  Hepatitis B  Measles  ...  Polio  \\\n",
       "0     0.01               71.279624         65.0     1154  ...    6.0   \n",
       "1     0.01               73.523582         62.0      492  ...   58.0   \n",
       "2     0.01               73.219243         64.0      430  ...   62.0   \n",
       "3     0.01               78.184215         67.0     2787  ...   67.0   \n",
       "4     0.01                7.097109         68.0     3013  ...   68.0   \n",
       "\n",
       "   Total expenditure  Diphtheria  HIV/AIDS         GDP  Population  \\\n",
       "0               8.16        65.0       0.1  584.259210  33736494.0   \n",
       "1               8.18        62.0       0.1  612.696514    327582.0   \n",
       "2               8.13        64.0       0.1  631.744976  31731688.0   \n",
       "3               8.52        67.0       0.1  669.959000   3696958.0   \n",
       "4               7.87        68.0       0.1   63.537231   2978599.0   \n",
       "\n",
       "   thinness  1-19 years  thinness 5-9 years  Income composition of resources  \\\n",
       "0                  17.2                17.3                            0.479   \n",
       "1                  17.5                17.5                            0.476   \n",
       "2                  17.7                17.7                            0.470   \n",
       "3                  17.9                18.0                            0.463   \n",
       "4                  18.2                18.2                            0.454   \n",
       "\n",
       "   Schooling  \n",
       "0       10.1  \n",
       "1       10.0  \n",
       "2        9.9  \n",
       "3        9.8  \n",
       "4        9.5  \n",
       "\n",
       "[5 rows x 22 columns]"
      ],
      "text/html": [
       "<div>\n",
       "<style scoped>\n",
       "    .dataframe tbody tr th:only-of-type {\n",
       "        vertical-align: middle;\n",
       "    }\n",
       "\n",
       "    .dataframe tbody tr th {\n",
       "        vertical-align: top;\n",
       "    }\n",
       "\n",
       "    .dataframe thead th {\n",
       "        text-align: right;\n",
       "    }\n",
       "</style>\n",
       "<table border=\"1\" class=\"dataframe\">\n",
       "  <thead>\n",
       "    <tr style=\"text-align: right;\">\n",
       "      <th></th>\n",
       "      <th>Country</th>\n",
       "      <th>Year</th>\n",
       "      <th>Status</th>\n",
       "      <th>Life expectancy</th>\n",
       "      <th>Adult Mortality</th>\n",
       "      <th>infant deaths</th>\n",
       "      <th>Alcohol</th>\n",
       "      <th>percentage expenditure</th>\n",
       "      <th>Hepatitis B</th>\n",
       "      <th>Measles</th>\n",
       "      <th>...</th>\n",
       "      <th>Polio</th>\n",
       "      <th>Total expenditure</th>\n",
       "      <th>Diphtheria</th>\n",
       "      <th>HIV/AIDS</th>\n",
       "      <th>GDP</th>\n",
       "      <th>Population</th>\n",
       "      <th>thinness  1-19 years</th>\n",
       "      <th>thinness 5-9 years</th>\n",
       "      <th>Income composition of resources</th>\n",
       "      <th>Schooling</th>\n",
       "    </tr>\n",
       "  </thead>\n",
       "  <tbody>\n",
       "    <tr>\n",
       "      <th>0</th>\n",
       "      <td>0</td>\n",
       "      <td>2015</td>\n",
       "      <td>1</td>\n",
       "      <td>65.0</td>\n",
       "      <td>263.0</td>\n",
       "      <td>62</td>\n",
       "      <td>0.01</td>\n",
       "      <td>71.279624</td>\n",
       "      <td>65.0</td>\n",
       "      <td>1154</td>\n",
       "      <td>...</td>\n",
       "      <td>6.0</td>\n",
       "      <td>8.16</td>\n",
       "      <td>65.0</td>\n",
       "      <td>0.1</td>\n",
       "      <td>584.259210</td>\n",
       "      <td>33736494.0</td>\n",
       "      <td>17.2</td>\n",
       "      <td>17.3</td>\n",
       "      <td>0.479</td>\n",
       "      <td>10.1</td>\n",
       "    </tr>\n",
       "    <tr>\n",
       "      <th>1</th>\n",
       "      <td>0</td>\n",
       "      <td>2014</td>\n",
       "      <td>1</td>\n",
       "      <td>59.9</td>\n",
       "      <td>271.0</td>\n",
       "      <td>64</td>\n",
       "      <td>0.01</td>\n",
       "      <td>73.523582</td>\n",
       "      <td>62.0</td>\n",
       "      <td>492</td>\n",
       "      <td>...</td>\n",
       "      <td>58.0</td>\n",
       "      <td>8.18</td>\n",
       "      <td>62.0</td>\n",
       "      <td>0.1</td>\n",
       "      <td>612.696514</td>\n",
       "      <td>327582.0</td>\n",
       "      <td>17.5</td>\n",
       "      <td>17.5</td>\n",
       "      <td>0.476</td>\n",
       "      <td>10.0</td>\n",
       "    </tr>\n",
       "    <tr>\n",
       "      <th>2</th>\n",
       "      <td>0</td>\n",
       "      <td>2013</td>\n",
       "      <td>1</td>\n",
       "      <td>59.9</td>\n",
       "      <td>268.0</td>\n",
       "      <td>66</td>\n",
       "      <td>0.01</td>\n",
       "      <td>73.219243</td>\n",
       "      <td>64.0</td>\n",
       "      <td>430</td>\n",
       "      <td>...</td>\n",
       "      <td>62.0</td>\n",
       "      <td>8.13</td>\n",
       "      <td>64.0</td>\n",
       "      <td>0.1</td>\n",
       "      <td>631.744976</td>\n",
       "      <td>31731688.0</td>\n",
       "      <td>17.7</td>\n",
       "      <td>17.7</td>\n",
       "      <td>0.470</td>\n",
       "      <td>9.9</td>\n",
       "    </tr>\n",
       "    <tr>\n",
       "      <th>3</th>\n",
       "      <td>0</td>\n",
       "      <td>2012</td>\n",
       "      <td>1</td>\n",
       "      <td>59.5</td>\n",
       "      <td>272.0</td>\n",
       "      <td>69</td>\n",
       "      <td>0.01</td>\n",
       "      <td>78.184215</td>\n",
       "      <td>67.0</td>\n",
       "      <td>2787</td>\n",
       "      <td>...</td>\n",
       "      <td>67.0</td>\n",
       "      <td>8.52</td>\n",
       "      <td>67.0</td>\n",
       "      <td>0.1</td>\n",
       "      <td>669.959000</td>\n",
       "      <td>3696958.0</td>\n",
       "      <td>17.9</td>\n",
       "      <td>18.0</td>\n",
       "      <td>0.463</td>\n",
       "      <td>9.8</td>\n",
       "    </tr>\n",
       "    <tr>\n",
       "      <th>4</th>\n",
       "      <td>0</td>\n",
       "      <td>2011</td>\n",
       "      <td>1</td>\n",
       "      <td>59.2</td>\n",
       "      <td>275.0</td>\n",
       "      <td>71</td>\n",
       "      <td>0.01</td>\n",
       "      <td>7.097109</td>\n",
       "      <td>68.0</td>\n",
       "      <td>3013</td>\n",
       "      <td>...</td>\n",
       "      <td>68.0</td>\n",
       "      <td>7.87</td>\n",
       "      <td>68.0</td>\n",
       "      <td>0.1</td>\n",
       "      <td>63.537231</td>\n",
       "      <td>2978599.0</td>\n",
       "      <td>18.2</td>\n",
       "      <td>18.2</td>\n",
       "      <td>0.454</td>\n",
       "      <td>9.5</td>\n",
       "    </tr>\n",
       "  </tbody>\n",
       "</table>\n",
       "<p>5 rows × 22 columns</p>\n",
       "</div>"
      ]
     },
     "metadata": {},
     "output_type": "display_data"
    },
    {
     "name": "stdout",
     "output_type": "stream",
     "text": [
      "<class 'pandas.core.frame.DataFrame'>\n",
      "RangeIndex: 2718 entries, 0 to 2717\n",
      "Data columns (total 22 columns):\n",
      " #   Column                           Non-Null Count  Dtype  \n",
      "---  ------                           --------------  -----  \n",
      " 0   Country                          2718 non-null   int16  \n",
      " 1   Year                             2718 non-null   int64  \n",
      " 2   Status                           2718 non-null   int8   \n",
      " 3   Life expectancy                  2718 non-null   float64\n",
      " 4   Adult Mortality                  2718 non-null   float64\n",
      " 5   infant deaths                    2718 non-null   int64  \n",
      " 6   Alcohol                          2558 non-null   float64\n",
      " 7   percentage expenditure           2718 non-null   float64\n",
      " 8   Hepatitis B                      2187 non-null   float64\n",
      " 9   Measles                          2718 non-null   int64  \n",
      " 10  BMI                              2686 non-null   float64\n",
      " 11  under-five deaths                2718 non-null   int64  \n",
      " 12  Polio                            2699 non-null   float64\n",
      " 13  Total expenditure                2526 non-null   float64\n",
      " 14  Diphtheria                       2699 non-null   float64\n",
      " 15  HIV/AIDS                         2718 non-null   float64\n",
      " 16  GDP                              2311 non-null   float64\n",
      " 17  Population                       2104 non-null   float64\n",
      " 18  thinness  1-19 years             2686 non-null   float64\n",
      " 19  thinness 5-9 years               2686 non-null   float64\n",
      " 20  Income composition of resources  2570 non-null   float64\n",
      " 21  Schooling                        2570 non-null   float64\n",
      "dtypes: float64(16), int16(1), int64(4), int8(1)\n",
      "memory usage: 432.8 KB\n"
     ]
    },
    {
     "data": {
      "text/plain": [
       "None"
      ]
     },
     "metadata": {},
     "output_type": "display_data"
    }
   ],
   "execution_count": 4
  },
  {
   "metadata": {},
   "cell_type": "markdown",
   "source": "Identifying Missing Values and Selecting Columns for Analysis",
   "id": "dfe147430cb6035c"
  },
  {
   "cell_type": "code",
   "id": "d06956b3-7991-46bc-b16a-686f8f716f02",
   "metadata": {
    "ExecuteTime": {
     "end_time": "2024-12-15T15:25:18.000235Z",
     "start_time": "2024-12-15T15:25:17.993314Z"
    }
   },
   "source": "print(data.isnull().sum())",
   "outputs": [
    {
     "name": "stdout",
     "output_type": "stream",
     "text": [
      "Country                              0\n",
      "Year                                 0\n",
      "Status                               0\n",
      "Life expectancy                      0\n",
      "Adult Mortality                      0\n",
      "infant deaths                        0\n",
      "Alcohol                            160\n",
      "percentage expenditure               0\n",
      "Hepatitis B                        531\n",
      "Measles                              0\n",
      "BMI                                 32\n",
      "under-five deaths                    0\n",
      "Polio                               19\n",
      "Total expenditure                  192\n",
      "Diphtheria                          19\n",
      "HIV/AIDS                             0\n",
      "GDP                                407\n",
      "Population                         614\n",
      "thinness  1-19 years                32\n",
      "thinness 5-9 years                  32\n",
      "Income composition of resources    148\n",
      "Schooling                          148\n",
      "dtype: int64\n"
     ]
    }
   ],
   "execution_count": 5
  },
  {
   "metadata": {
    "ExecuteTime": {
     "end_time": "2024-12-15T15:25:18.235062Z",
     "start_time": "2024-12-15T15:25:18.229398Z"
    }
   },
   "cell_type": "code",
   "source": [
    "columns_to_check = [\n",
    "    \"Alcohol\", \"Hepatitis B\", \"BMI\", \"Polio\", \"Total expenditure\", \"Diphtheria\",\n",
    "    \"GDP\", \"Population\", \"thinness  1-19 years\", \"thinness 5-9 years\",\n",
    "    \"Income composition of resources\", \"Schooling\"\n",
    "]"
   ],
   "id": "5fd13fbca1fd0ea9",
   "outputs": [],
   "execution_count": 6
  },
  {
   "cell_type": "markdown",
   "id": "1e0c3f59-293e-4dbb-8822-aaa311cac55d",
   "metadata": {},
   "source": "Splitting the Dataset into Training and Testing Sets"
  },
  {
   "cell_type": "code",
   "id": "94900b83-acb2-489a-bdeb-857840576206",
   "metadata": {
    "ExecuteTime": {
     "end_time": "2024-12-15T15:25:19.835594Z",
     "start_time": "2024-12-15T15:25:18.322535Z"
    }
   },
   "source": [
    "from sklearn.model_selection import train_test_split\n",
    "\n",
    "random_seed = 42\n",
    "\n",
    "Xtrain, Xtest, ytrain, ytest = train_test_split(data.drop(columns=['Life expectancy']), data['Life expectancy'], test_size=0.4, random_state=random_seed)\n",
    "\n",
    "print(Xtrain.shape)\n",
    "print(ytrain.shape)\n",
    "\n",
    "print(Xtest.shape)\n",
    "print(ytest.shape)"
   ],
   "outputs": [
    {
     "name": "stdout",
     "output_type": "stream",
     "text": [
      "(1630, 21)\n",
      "(1630,)\n",
      "(1088, 21)\n",
      "(1088,)\n"
     ]
    }
   ],
   "execution_count": 7
  },
  {
   "metadata": {},
   "cell_type": "markdown",
   "source": [
    "- Implemented the `fill_missing_values` function to handle missing values in selected columns (`columns_to_check`).\n",
    "- Missing values in `Xtrain` are imputed in the following order:\n",
    "  1. Grouped by `Country` and filled with the country-wise mean.\n",
    "  2. If still missing, filled with the mean grouped by `Year` and `Status`.\n",
    "  3. As a fallback, filled with the overall mean of the column.\n",
    "- Missing values in `Xtest` are imputed using:\n",
    "  1. Country-wise means from the training set.\n",
    "  2. Year and status-wise means (from the training set) when applicable.\n",
    "  3. Overall mean from the training set as a final fallback."
   ],
   "id": "b73c07f9c978956a"
  },
  {
   "cell_type": "code",
   "id": "0fa76f53-0702-410b-b2a0-0bf57d327cf9",
   "metadata": {
    "ExecuteTime": {
     "end_time": "2024-12-15T15:25:19.966937Z",
     "start_time": "2024-12-15T15:25:19.903079Z"
    }
   },
   "source": [
    "def fill_missing_values(Xtrain, Xtest, columns_to_check):\n",
    "    for column in columns_to_check:\n",
    "        country_means = Xtrain.groupby('Country')[column].transform('mean')\n",
    "        Xtrain[column] = Xtrain[column].fillna(country_means)\n",
    "        if Xtrain[column].isnull().sum() > 0:\n",
    "            year_status_means = Xtrain.groupby(['Year', 'Status'])[column].transform('mean')\n",
    "            Xtrain[column] = Xtrain[column].fillna(year_status_means)\n",
    "        if Xtrain[column].isnull().sum() > 0:\n",
    "            overall_mean = Xtrain[column].mean()\n",
    "            Xtrain[column] = Xtrain[column].fillna(overall_mean)\n",
    "\n",
    "    for column in columns_to_check:\n",
    "        country_means = Xtrain.groupby('Country')[column].mean()\n",
    "        Xtest[column] = Xtest[column].fillna(\n",
    "            Xtest['Country'].map(country_means)\n",
    "        )\n",
    "        if Xtest[column].isnull().sum() > 0:\n",
    "            year_status_means = Xtrain.groupby(['Year', 'Status'])[column].mean()\n",
    "            Xtest[column] = Xtest[column].fillna(\n",
    "                Xtest[['Year', 'Status']].apply(\n",
    "                    lambda row: year_status_means.loc[row['Year'], row['Status']] \n",
    "                    if (row['Year'], row['Status']) in year_status_means.index \n",
    "                    else np.nan, axis=1\n",
    "                )\n",
    "            )\n",
    "        \n",
    "        if Xtest[column].isnull().sum() > 0:\n",
    "            overall_mean = Xtrain[column].mean()\n",
    "            Xtest[column] = Xtest[column].fillna(overall_mean)\n",
    "\n",
    "    return Xtrain, Xtest\n",
    "\n",
    "\n",
    "Xtrain, Xtest = fill_missing_values(Xtrain, Xtest, columns_to_check)\n",
    "\n",
    "print(\"\\nFinal Missing Values in Training Data:\")\n",
    "print(Xtrain[columns_to_check].isnull().sum())\n",
    "\n",
    "print(\"\\nFinal Missing Values in Test Data:\")\n",
    "print(Xtest[columns_to_check].isnull().sum())"
   ],
   "outputs": [
    {
     "name": "stdout",
     "output_type": "stream",
     "text": [
      "\n",
      "Final Missing Values in Training Data:\n",
      "Alcohol                            0\n",
      "Hepatitis B                        0\n",
      "BMI                                0\n",
      "Polio                              0\n",
      "Total expenditure                  0\n",
      "Diphtheria                         0\n",
      "GDP                                0\n",
      "Population                         0\n",
      "thinness  1-19 years               0\n",
      "thinness 5-9 years                 0\n",
      "Income composition of resources    0\n",
      "Schooling                          0\n",
      "dtype: int64\n",
      "\n",
      "Final Missing Values in Test Data:\n",
      "Alcohol                            0\n",
      "Hepatitis B                        0\n",
      "BMI                                0\n",
      "Polio                              0\n",
      "Total expenditure                  0\n",
      "Diphtheria                         0\n",
      "GDP                                0\n",
      "Population                         0\n",
      "thinness  1-19 years               0\n",
      "thinness 5-9 years                 0\n",
      "Income composition of resources    0\n",
      "Schooling                          0\n",
      "dtype: int64\n"
     ]
    }
   ],
   "execution_count": 8
  },
  {
   "metadata": {},
   "cell_type": "markdown",
   "source": "Further Splitting of the Testing Set into Validation and Final Testing Sets",
   "id": "ac88416f8595fe6f"
  },
  {
   "cell_type": "code",
   "id": "bbff76c1-5d1a-4839-869a-e00352911b87",
   "metadata": {
    "ExecuteTime": {
     "end_time": "2024-12-15T15:25:20.021841Z",
     "start_time": "2024-12-15T15:25:20.012897Z"
    }
   },
   "source": [
    "Xval, Xtest, yval, ytest = train_test_split(Xtest, ytest, test_size=0.5, random_state=random_seed) \n",
    "\n",
    "print(Xval.shape)\n",
    "print(yval.shape)\n",
    "\n",
    "print(Xtest.shape)\n",
    "print(ytest.shape)"
   ],
   "outputs": [
    {
     "name": "stdout",
     "output_type": "stream",
     "text": [
      "(544, 21)\n",
      "(544,)\n",
      "(544, 21)\n",
      "(544,)\n"
     ]
    }
   ],
   "execution_count": 9
  },
  {
   "cell_type": "code",
   "id": "9b133901-0c5c-462b-b558-12175057c667",
   "metadata": {
    "ExecuteTime": {
     "end_time": "2024-12-15T15:25:20.108949Z",
     "start_time": "2024-12-15T15:25:20.082790Z"
    }
   },
   "source": "Xval.head()",
   "outputs": [
    {
     "data": {
      "text/plain": [
       "      Country  Year  Status  Adult Mortality  infant deaths  Alcohol  \\\n",
       "63          4  2004       1            149.0              0     7.28   \n",
       "1286       87  2013       1             83.0              1     0.01   \n",
       "2112      143  2005       1             48.0             30     3.83   \n",
       "2234      151  2011       0             63.0              1     9.62   \n",
       "2069      140  2006       1            236.0             23     0.34   \n",
       "\n",
       "      percentage expenditure  Hepatitis B  Measles   BMI  ...  Polio  \\\n",
       "63                 22.862952         97.0        0   4.8  ...   97.0   \n",
       "1286             2792.677582         99.0       62   7.2  ...   99.0   \n",
       "2112               42.088929         77.0       29  19.2  ...   67.0   \n",
       "2234             4873.818800         97.0     3802  64.1  ...   97.0   \n",
       "2069               10.430226         89.0        3  19.9  ...   89.0   \n",
       "\n",
       "      Total expenditure  Diphtheria  HIV/AIDS           GDP    Population  \\\n",
       "63                 4.21        97.0       0.1   1352.837400  1.515610e+07   \n",
       "1286               2.56        99.0       0.1  48399.958100  1.194161e+07   \n",
       "2112              12.25        65.0       2.2    287.689194  5.658379e+06   \n",
       "2234               9.48        97.0       0.1  31834.218160  4.674270e+07   \n",
       "2069               5.44        89.0       0.7     89.838296  1.155676e+07   \n",
       "\n",
       "      thinness  1-19 years  thinness 5-9 years  \\\n",
       "63                     3.5                 3.4   \n",
       "1286                   3.4                 3.3   \n",
       "2112                   9.3                 9.3   \n",
       "2234                   0.6                 0.5   \n",
       "2069                  11.2                11.1   \n",
       "\n",
       "      Income composition of resources  Schooling  \n",
       "63                              0.000        0.0  \n",
       "1286                            0.796       13.1  \n",
       "2112                            0.341        7.8  \n",
       "2234                            0.867       16.9  \n",
       "2069                            0.422        6.6  \n",
       "\n",
       "[5 rows x 21 columns]"
      ],
      "text/html": [
       "<div>\n",
       "<style scoped>\n",
       "    .dataframe tbody tr th:only-of-type {\n",
       "        vertical-align: middle;\n",
       "    }\n",
       "\n",
       "    .dataframe tbody tr th {\n",
       "        vertical-align: top;\n",
       "    }\n",
       "\n",
       "    .dataframe thead th {\n",
       "        text-align: right;\n",
       "    }\n",
       "</style>\n",
       "<table border=\"1\" class=\"dataframe\">\n",
       "  <thead>\n",
       "    <tr style=\"text-align: right;\">\n",
       "      <th></th>\n",
       "      <th>Country</th>\n",
       "      <th>Year</th>\n",
       "      <th>Status</th>\n",
       "      <th>Adult Mortality</th>\n",
       "      <th>infant deaths</th>\n",
       "      <th>Alcohol</th>\n",
       "      <th>percentage expenditure</th>\n",
       "      <th>Hepatitis B</th>\n",
       "      <th>Measles</th>\n",
       "      <th>BMI</th>\n",
       "      <th>...</th>\n",
       "      <th>Polio</th>\n",
       "      <th>Total expenditure</th>\n",
       "      <th>Diphtheria</th>\n",
       "      <th>HIV/AIDS</th>\n",
       "      <th>GDP</th>\n",
       "      <th>Population</th>\n",
       "      <th>thinness  1-19 years</th>\n",
       "      <th>thinness 5-9 years</th>\n",
       "      <th>Income composition of resources</th>\n",
       "      <th>Schooling</th>\n",
       "    </tr>\n",
       "  </thead>\n",
       "  <tbody>\n",
       "    <tr>\n",
       "      <th>63</th>\n",
       "      <td>4</td>\n",
       "      <td>2004</td>\n",
       "      <td>1</td>\n",
       "      <td>149.0</td>\n",
       "      <td>0</td>\n",
       "      <td>7.28</td>\n",
       "      <td>22.862952</td>\n",
       "      <td>97.0</td>\n",
       "      <td>0</td>\n",
       "      <td>4.8</td>\n",
       "      <td>...</td>\n",
       "      <td>97.0</td>\n",
       "      <td>4.21</td>\n",
       "      <td>97.0</td>\n",
       "      <td>0.1</td>\n",
       "      <td>1352.837400</td>\n",
       "      <td>1.515610e+07</td>\n",
       "      <td>3.5</td>\n",
       "      <td>3.4</td>\n",
       "      <td>0.000</td>\n",
       "      <td>0.0</td>\n",
       "    </tr>\n",
       "    <tr>\n",
       "      <th>1286</th>\n",
       "      <td>87</td>\n",
       "      <td>2013</td>\n",
       "      <td>1</td>\n",
       "      <td>83.0</td>\n",
       "      <td>1</td>\n",
       "      <td>0.01</td>\n",
       "      <td>2792.677582</td>\n",
       "      <td>99.0</td>\n",
       "      <td>62</td>\n",
       "      <td>7.2</td>\n",
       "      <td>...</td>\n",
       "      <td>99.0</td>\n",
       "      <td>2.56</td>\n",
       "      <td>99.0</td>\n",
       "      <td>0.1</td>\n",
       "      <td>48399.958100</td>\n",
       "      <td>1.194161e+07</td>\n",
       "      <td>3.4</td>\n",
       "      <td>3.3</td>\n",
       "      <td>0.796</td>\n",
       "      <td>13.1</td>\n",
       "    </tr>\n",
       "    <tr>\n",
       "      <th>2112</th>\n",
       "      <td>143</td>\n",
       "      <td>2005</td>\n",
       "      <td>1</td>\n",
       "      <td>48.0</td>\n",
       "      <td>30</td>\n",
       "      <td>3.83</td>\n",
       "      <td>42.088929</td>\n",
       "      <td>77.0</td>\n",
       "      <td>29</td>\n",
       "      <td>19.2</td>\n",
       "      <td>...</td>\n",
       "      <td>67.0</td>\n",
       "      <td>12.25</td>\n",
       "      <td>65.0</td>\n",
       "      <td>2.2</td>\n",
       "      <td>287.689194</td>\n",
       "      <td>5.658379e+06</td>\n",
       "      <td>9.3</td>\n",
       "      <td>9.3</td>\n",
       "      <td>0.341</td>\n",
       "      <td>7.8</td>\n",
       "    </tr>\n",
       "    <tr>\n",
       "      <th>2234</th>\n",
       "      <td>151</td>\n",
       "      <td>2011</td>\n",
       "      <td>0</td>\n",
       "      <td>63.0</td>\n",
       "      <td>1</td>\n",
       "      <td>9.62</td>\n",
       "      <td>4873.818800</td>\n",
       "      <td>97.0</td>\n",
       "      <td>3802</td>\n",
       "      <td>64.1</td>\n",
       "      <td>...</td>\n",
       "      <td>97.0</td>\n",
       "      <td>9.48</td>\n",
       "      <td>97.0</td>\n",
       "      <td>0.1</td>\n",
       "      <td>31834.218160</td>\n",
       "      <td>4.674270e+07</td>\n",
       "      <td>0.6</td>\n",
       "      <td>0.5</td>\n",
       "      <td>0.867</td>\n",
       "      <td>16.9</td>\n",
       "    </tr>\n",
       "    <tr>\n",
       "      <th>2069</th>\n",
       "      <td>140</td>\n",
       "      <td>2006</td>\n",
       "      <td>1</td>\n",
       "      <td>236.0</td>\n",
       "      <td>23</td>\n",
       "      <td>0.34</td>\n",
       "      <td>10.430226</td>\n",
       "      <td>89.0</td>\n",
       "      <td>3</td>\n",
       "      <td>19.9</td>\n",
       "      <td>...</td>\n",
       "      <td>89.0</td>\n",
       "      <td>5.44</td>\n",
       "      <td>89.0</td>\n",
       "      <td>0.7</td>\n",
       "      <td>89.838296</td>\n",
       "      <td>1.155676e+07</td>\n",
       "      <td>11.2</td>\n",
       "      <td>11.1</td>\n",
       "      <td>0.422</td>\n",
       "      <td>6.6</td>\n",
       "    </tr>\n",
       "  </tbody>\n",
       "</table>\n",
       "<p>5 rows × 21 columns</p>\n",
       "</div>"
      ]
     },
     "execution_count": 10,
     "metadata": {},
     "output_type": "execute_result"
    }
   ],
   "execution_count": 10
  },
  {
   "metadata": {
    "ExecuteTime": {
     "end_time": "2024-12-15T15:25:20.218674Z",
     "start_time": "2024-12-15T15:25:20.213269Z"
    }
   },
   "cell_type": "code",
   "source": "## Random Forest",
   "id": "b6bac06ee28be84c",
   "outputs": [],
   "execution_count": 11
  },
  {
   "metadata": {},
   "cell_type": "markdown",
   "source": "Defined a `CustomRandomForest` class to implement a simplified random forest regressor using `DecisionTreeRegressor`.",
   "id": "9e86560cbf1cf518"
  },
  {
   "cell_type": "code",
   "id": "96f5d321-f7e3-44db-93c1-268d394a58fd",
   "metadata": {
    "ExecuteTime": {
     "end_time": "2024-12-15T15:25:20.514520Z",
     "start_time": "2024-12-15T15:25:20.343253Z"
    }
   },
   "source": [
    "from sklearn.tree import DecisionTreeRegressor\n",
    "\n",
    "class CustomRandomForest:\n",
    "    def __init__(self, n_estimators=100, max_samples=1.0, max_depth=None, random_state=42, **kwargs):\n",
    "        self.n_estimators = n_estimators\n",
    "        self.max_samples = max_samples\n",
    "        self.max_depth = max_depth\n",
    "        self.random_state = random_state\n",
    "        self.kwargs = kwargs\n",
    "        self.trees = []\n",
    "\n",
    "    def fit(self, X, y):\n",
    "        np.random.seed(self.random_state)\n",
    "        self.trees = []\n",
    "        n_samples = X.shape[0]\n",
    "\n",
    "        for _ in range(self.n_estimators):\n",
    "            if self.max_samples <= 1:  \n",
    "                sample_size = int(self.max_samples * n_samples)\n",
    "            else: \n",
    "                sample_size = int(self.max_samples)\n",
    "\n",
    "            bootstrap_indices = np.random.choice(n_samples, size=sample_size, replace=True)\n",
    "            X_sample = X.iloc[bootstrap_indices]\n",
    "            y_sample = y.iloc[bootstrap_indices]\n",
    "            tree = DecisionTreeRegressor(max_depth=self.max_depth, random_state=self.random_state, **self.kwargs)\n",
    "            tree.fit(X_sample, y_sample)\n",
    "            self.trees.append(tree)\n",
    "\n",
    "    def predict(self, X):\n",
    "        predictions = np.array([tree.predict(X) for tree in self.trees])\n",
    "        ypredicted = np.mean(predictions, axis=0)\n",
    "        return ypredicted"
   ],
   "outputs": [],
   "execution_count": 12
  },
  {
   "metadata": {},
   "cell_type": "markdown",
   "source": [
    "### Hyperparameter Tuning for Custom Random Forest\n",
    "\n",
    "- Defined a `param_grid` for grid search, including:\n",
    "  - Number of trees (`n_estimators`), sample size (`max_samples`), and tree depth (`max_depth`).\n",
    "- Used `ParameterGrid` to generate all possible combinations of hyperparameters.\n",
    "- For each parameter combination:\n",
    "  1. Trained a `CustomRandomForest` on the training data.\n",
    "  2. Evaluated it on the validation set (`Xval`, `yval`) using RMSE and MAE metrics.\n",
    "  - Stored results for all parameter combinations.\n",
    "- Identified the best hyperparameter set with the lowest RMSE on the validation set.\n",
    "- Printed the best parameters and their corresponding RMSE and MAE values."
   ],
   "id": "5ca38c1abc02ad0a"
  },
  {
   "metadata": {
    "ExecuteTime": {
     "end_time": "2024-12-15T15:28:33.411155Z",
     "start_time": "2024-12-15T15:25:20.609388Z"
    }
   },
   "cell_type": "code",
   "source": [
    "from sklearn.metrics import root_mean_squared_error, mean_absolute_error\n",
    "from sklearn.model_selection import ParameterGrid\n",
    "import numpy as np\n",
    "\n",
    "param_grid = {\n",
    "    'n_estimators': range(25, 95, 5),\n",
    "    'max_samples': [0.8, 0.9, 1.0],\n",
    "    'max_depth': range(4, 20, 4)\n",
    "}\n",
    "parameter_combinations = list(ParameterGrid(param_grid))\n",
    "results = {'params': [], 'rmse': [], 'mae': []}\n",
    "\n",
    "for parameters in parameter_combinations:\n",
    "    forest = CustomRandomForest(\n",
    "        n_estimators=parameters['n_estimators'],\n",
    "        max_samples=parameters['max_samples'],\n",
    "        max_depth=parameters['max_depth'],\n",
    "        random_state=155  \n",
    "    )\n",
    "    \n",
    "    forest.fit(Xtrain, ytrain)\n",
    "    predictions = forest.predict(Xval)\n",
    "    \n",
    "    rmse = root_mean_squared_error(yval, predictions)\n",
    "    mae = mean_absolute_error(yval, predictions)\n",
    "    \n",
    "    results['params'].append(parameters)\n",
    "    results['rmse'].append(rmse)\n",
    "    results['mae'].append(mae)\n",
    "\n",
    "best_idx = np.argmin(results['rmse'])\n",
    "best_parameters = results['params'][best_idx]\n",
    "\n",
    "print(f\"Best parameters: {best_parameters}\")\n",
    "print(f\"Validation RMSE (best): {results['rmse'][best_idx]:.5f}\")\n",
    "print(f\"Validation MAE (best): {results['mae'][best_idx]:.5f}\")"
   ],
   "id": "f953dd53-16a6-46fb-91b0-1b5c0c1b7b91",
   "outputs": [
    {
     "name": "stdout",
     "output_type": "stream",
     "text": [
      "Best parameters: {'max_depth': 16, 'max_samples': 1.0, 'n_estimators': 90}\n",
      "Validation RMSE (best): 1.92322\n",
      "Validation MAE (best): 1.22903\n"
     ]
    }
   ],
   "execution_count": 13
  },
  {
   "metadata": {},
   "cell_type": "markdown",
   "source": "Training the Best Random Forest Model",
   "id": "98416fe8f624a06d"
  },
  {
   "metadata": {
    "ExecuteTime": {
     "end_time": "2024-12-15T15:28:36.187047Z",
     "start_time": "2024-12-15T15:28:33.597382Z"
    }
   },
   "cell_type": "code",
   "source": [
    "best_forest = CustomRandomForest(\n",
    "    n_estimators=best_parameters['n_estimators'],\n",
    "    max_samples=best_parameters['max_samples'],\n",
    "    max_depth=best_parameters['max_depth'],\n",
    "    random_state=155\n",
    ")\n",
    "\n",
    "best_forest.fit(Xtrain, ytrain)"
   ],
   "id": "315b39f176062e30",
   "outputs": [],
   "execution_count": 14
  },
  {
   "metadata": {},
   "cell_type": "markdown",
   "source": "Error Distribution Analysis",
   "id": "79b88191ca99d38e"
  },
  {
   "metadata": {
    "ExecuteTime": {
     "end_time": "2024-12-15T15:28:36.891609Z",
     "start_time": "2024-12-15T15:28:36.189565Z"
    }
   },
   "cell_type": "code",
   "source": [
    "yval_pred = best_forest.predict(Xval)\n",
    "ytrain_pred = best_forest.predict(Xtrain)\n",
    "\n",
    "val_errors = yval - yval_pred\n",
    "train_errors = ytrain - ytrain_pred\n",
    "\n",
    "plt.figure(figsize=(10, 6))\n",
    "\n",
    "plt.hist(val_errors, bins=20, alpha=0.7, label='Validation Errors', color='blue', density=True)\n",
    "plt.hist(train_errors, bins=20, alpha=0.7, label='Train Errors', color='green', density=True)\n",
    "\n",
    "plt.title('Error distribution for random forest model')\n",
    "plt.xlabel('Error')\n",
    "plt.ylabel('Number')\n",
    "plt.legend()\n",
    "plt.grid()\n",
    "plt.show()"
   ],
   "id": "4d4ad090bcfdb47f",
   "outputs": [
    {
     "data": {
      "text/plain": [
       "<Figure size 1000x600 with 1 Axes>"
      ],
      "image/png": "[encoded data removed]"
     },
     "metadata": {},
     "output_type": "display_data"
    }
   ],
   "execution_count": 15
  },
  {
   "metadata": {},
   "cell_type": "markdown",
   "source": [
    "The validation error distribution being wider suggests some degree of overfitting: the model performs slightly better on training data than on unseen validation data.\n",
    "However, the central alignment of both histograms around zero suggests that the model’s predictions are unbiased overall."
   ],
   "id": "5aa60b1922346f96"
  },
  {
   "metadata": {},
   "cell_type": "markdown",
   "source": " ## LinearRegression",
   "id": "6d6c575474de1599"
  },
  {
   "metadata": {},
   "cell_type": "markdown",
   "source": "Scaling Features Using StandardScaler",
   "id": "56675778c0fbd83e"
  },
  {
   "metadata": {
    "ExecuteTime": {
     "end_time": "2024-12-15T15:28:36.969003Z",
     "start_time": "2024-12-15T15:28:36.955252Z"
    }
   },
   "cell_type": "code",
   "source": [
    "from sklearn.preprocessing import StandardScaler\n",
    "scaler = StandardScaler()\n",
    "Xtrain_scaled = scaler.fit_transform(Xtrain)\n",
    "Xval_scaled = scaler.transform(Xval)\n",
    "XTrain_scaled = scaler.transform(Xtrain)"
   ],
   "id": "aa3c3cbb2394754f",
   "outputs": [],
   "execution_count": 16
  },
  {
   "metadata": {},
   "cell_type": "markdown",
   "source": "Training a Linear Regression Model",
   "id": "83b0e3a6a0597640"
  },
  {
   "metadata": {
    "ExecuteTime": {
     "end_time": "2024-12-15T15:28:37.124295Z",
     "start_time": "2024-12-15T15:28:37.093206Z"
    }
   },
   "cell_type": "code",
   "source": [
    "from sklearn.linear_model import LinearRegression\n",
    "\n",
    "lr_model = LinearRegression()\n",
    "lr_model.fit(Xtrain_scaled, ytrain)\n",
    "\n",
    "yval_pred = lr_model.predict(Xval_scaled)\n",
    "ytrain_pred = lr_model.predict(XTrain_scaled)"
   ],
   "id": "dc14731d4d5efb41",
   "outputs": [],
   "execution_count": 17
  },
  {
   "metadata": {},
   "cell_type": "markdown",
   "source": "Evaluating Linear Regression Performance",
   "id": "b3cd151b15bd2e96"
  },
  {
   "metadata": {
    "ExecuteTime": {
     "end_time": "2024-12-15T15:28:37.256935Z",
     "start_time": "2024-12-15T15:28:37.239346Z"
    }
   },
   "cell_type": "code",
   "source": [
    "from sklearn.metrics import root_mean_squared_error, mean_absolute_error\n",
    "\n",
    "def evaluate_model(y_true, y_pred):\n",
    "    rmse = root_mean_squared_error(y_true, y_pred) \n",
    "    mae = mean_absolute_error(y_true, y_pred)\n",
    "    return rmse, mae\n",
    "\n",
    "rmse_val, mae_val = evaluate_model(yval, yval_pred)\n",
    "print(f\"Validation RMSE: {rmse_val:.5f}, MAE: {mae_val:.5f}\")\n",
    "\n",
    "rmse_train, mae_train = evaluate_model(ytrain, ytrain_pred)\n",
    "print(f\"Train RMSE: {rmse_train:.5f}, MAE: {mae_train:.5f}\")\n"
   ],
   "id": "8b7c327859b1450f",
   "outputs": [
    {
     "name": "stdout",
     "output_type": "stream",
     "text": [
      "Validation RMSE: 4.31521, MAE: 3.25882\n",
      "Train RMSE: 3.92991, MAE: 2.97573\n"
     ]
    }
   ],
   "execution_count": 18
  },
  {
   "metadata": {},
   "cell_type": "markdown",
   "source": "Visualizing True vs Predicted Values",
   "id": "dd0066104d6d1915"
  },
  {
   "metadata": {
    "ExecuteTime": {
     "end_time": "2024-12-15T15:28:37.633695Z",
     "start_time": "2024-12-15T15:28:37.346182Z"
    }
   },
   "cell_type": "code",
   "source": [
    "plt.figure(figsize=(10, 6))\n",
    "\n",
    "y = data['Life expectancy']\n",
    "\n",
    "plt.scatter(yval, yval_pred, alpha=0.7, label='Validation Data', color='blue')\n",
    "plt.scatter(ytrain, ytrain_pred, alpha=0.7, label='Train Data', color='green')\n",
    "plt.plot([y.min(), y.max()], [y.min(), y.max()], 'r--', label='Perfect Prediction')\n",
    "\n",
    "plt.title('Comparison of Predictions and True Values')\n",
    "plt.xlabel('True Values (Life expectancy)')\n",
    "plt.ylabel('Predicted Values (Life expectancy)')\n",
    "plt.legend()\n",
    "plt.grid()\n",
    "plt.show()"
   ],
   "id": "f061280884931934",
   "outputs": [
    {
     "data": {
      "text/plain": [
       "<Figure size 1000x600 with 1 Axes>"
      ],
      "image/png": "[encoded data removed]"
     },
     "metadata": {},
     "output_type": "display_data"
    }
   ],
   "execution_count": 19
  },
  {
   "metadata": {},
   "cell_type": "markdown",
   "source": "This indicates that the model predictions closely match the true values for life expectancy.",
   "id": "992b33a17e4b2857"
  },
  {
   "metadata": {},
   "cell_type": "markdown",
   "source": "Error Distribution Analysis for Linear Regression Model:",
   "id": "4755e1602c513346"
  },
  {
   "metadata": {
    "ExecuteTime": {
     "end_time": "2024-12-15T15:28:37.922642Z",
     "start_time": "2024-12-15T15:28:37.699499Z"
    }
   },
   "cell_type": "code",
   "source": [
    "val_errors = yval - yval_pred\n",
    "train_errors = ytrain - ytrain_pred\n",
    "\n",
    "plt.figure(figsize=(10, 6))\n",
    "\n",
    "plt.hist(val_errors, bins=20, alpha=0.7, label='Validation Errors', color='blue', density=True)\n",
    "plt.hist(train_errors, bins=20, alpha=0.7, label='Train Errors', color='green', density=True)\n",
    "\n",
    "plt.title('Error Distribution')\n",
    "plt.xlabel('Error')\n",
    "plt.ylabel('Number')\n",
    "plt.legend()\n",
    "plt.grid()\n",
    "plt.show()"
   ],
   "id": "8f00a55e7f7a5bf0",
   "outputs": [
    {
     "data": {
      "text/plain": [
       "<Figure size 1000x600 with 1 Axes>"
      ],
      "image/png": "[encoded data removed]"
     },
     "metadata": {},
     "output_type": "display_data"
    }
   ],
   "execution_count": 20
  },
  {
   "metadata": {},
   "cell_type": "markdown",
   "source": [
    "The errors for both the training set (green) and validation set (blue) are roughly symmetric and centered around zero.\n",
    "This indicates that the model has no significant bias (systematic error), and predictions are generally well-balanced."
   ],
   "id": "58ce4911fc576838"
  },
  {
   "metadata": {},
   "cell_type": "markdown",
   "source": "## KNN",
   "id": "5fc84d81acdc6a40"
  },
  {
   "metadata": {
    "ExecuteTime": {
     "end_time": "2024-12-15T15:28:46.569405Z",
     "start_time": "2024-12-15T15:28:37.985623Z"
    }
   },
   "cell_type": "code",
   "source": [
    "from sklearn.neighbors import KNeighborsRegressor\n",
    "from sklearn.model_selection import GridSearchCV\n",
    "\n",
    "param_grid = {\n",
    "    'n_neighbors': range(1, 21), \n",
    "    'weights': ['uniform', 'distance'],\n",
    "    'p': [1, 2]  \n",
    "}\n",
    "\n",
    "knn = KNeighborsRegressor()\n",
    "grid_search = GridSearchCV(knn, param_grid, cv=5, scoring='neg_root_mean_squared_error', n_jobs=-1)\n",
    "grid_search.fit(Xtrain_scaled, ytrain)\n",
    "\n",
    "best_params = grid_search.best_params_\n",
    "print(f\"Best parameters: {best_params}\")"
   ],
   "id": "6cbe63d637d9ff20",
   "outputs": [
    {
     "name": "stdout",
     "output_type": "stream",
     "text": [
      "Best parameters: {'n_neighbors': 2, 'p': 1, 'weights': 'distance'}\n"
     ]
    }
   ],
   "execution_count": 21
  },
  {
   "metadata": {},
   "cell_type": "markdown",
   "source": "Training the Best K-Nearest Neighbors (KNN) Model:",
   "id": "330723df4c1fbe84"
  },
  {
   "metadata": {
    "ExecuteTime": {
     "end_time": "2024-12-15T15:28:47.017069Z",
     "start_time": "2024-12-15T15:28:46.745744Z"
    }
   },
   "cell_type": "code",
   "source": [
    "best_knn = KNeighborsRegressor(**best_params)\n",
    "best_knn.fit(Xtrain_scaled, ytrain)\n",
    "\n",
    "yval_pred = best_knn.predict(Xval_scaled)"
   ],
   "id": "85e7cad649de806e",
   "outputs": [],
   "execution_count": 22
  },
  {
   "metadata": {},
   "cell_type": "markdown",
   "source": "Evaluating KNN Model Performance on the Validation Set:",
   "id": "8afc486857c7ce46"
  },
  {
   "metadata": {
    "ExecuteTime": {
     "end_time": "2024-12-15T15:28:47.037723Z",
     "start_time": "2024-12-15T15:28:47.021578Z"
    }
   },
   "cell_type": "code",
   "source": [
    "def evaluate_model(y_true, y_pred):\n",
    "    rmse = root_mean_squared_error(y_true, y_pred)\n",
    "    mae = mean_absolute_error(y_true, y_pred)\n",
    "    return rmse, mae\n",
    "\n",
    "rmse_val, mae_val = evaluate_model(yval, yval_pred)\n",
    "\n",
    "print(f\"Validation RMSE: {rmse_val:.5f}, MAE: {mae_val:.5f}\")"
   ],
   "id": "eff66420610d90",
   "outputs": [
    {
     "name": "stdout",
     "output_type": "stream",
     "text": [
      "Validation RMSE: 2.01084, MAE: 1.18466\n"
     ]
    }
   ],
   "execution_count": 23
  },
  {
   "metadata": {},
   "cell_type": "markdown",
   "source": "Error Distribution for kNN Regression Model",
   "id": "2ddeea8d4fe82b86"
  },
  {
   "metadata": {
    "ExecuteTime": {
     "end_time": "2024-12-15T15:28:47.370203Z",
     "start_time": "2024-12-15T15:28:47.147661Z"
    }
   },
   "cell_type": "code",
   "source": [
    "val_errors = yval - yval_pred\n",
    "train_errors = ytrain - ytrain_pred\n",
    "\n",
    "plt.figure(figsize=(10, 6))\n",
    "\n",
    "plt.hist(val_errors, bins=20, alpha=0.7, label='Validation Errors', color='blue', density=True)\n",
    "\n",
    "plt.title('Error Distribution (kNN Regression)')\n",
    "plt.xlabel('Error')\n",
    "plt.ylabel('Number')\n",
    "plt.legend()\n",
    "plt.grid()\n",
    "plt.show()"
   ],
   "id": "a8fc0780bf25b9b4",
   "outputs": [
    {
     "data": {
      "text/plain": [
       "<Figure size 1000x600 with 1 Axes>"
      ],
      "image/png": "[encoded data removed]"
     },
     "metadata": {},
     "output_type": "display_data"
    }
   ],
   "execution_count": 24
  },
  {
   "metadata": {},
   "cell_type": "markdown",
   "source": [
    "The peak of the validation errors is concentrated around 0, indicating that the kNN model’s predictions are mostly accurate.\n",
    "The strong central peak suggests the majority of errors are very small, which is a good sign."
   ],
   "id": "c6edbd3dee589c96"
  },
  {
   "metadata": {},
   "cell_type": "markdown",
   "source": "## Final model",
   "id": "f12757d3203a76d1"
  },
  {
   "metadata": {},
   "cell_type": "markdown",
   "source": "- The **Random Forest model** was selected as the final model because it achieved the **lowest RMSE** on the validation set compared to other models.",
   "id": "1da06ddb19b55d6a"
  },
  {
   "metadata": {
    "ExecuteTime": {
     "end_time": "2024-12-15T15:31:03.967894Z",
     "start_time": "2024-12-15T15:31:03.804293Z"
    }
   },
   "cell_type": "code",
   "source": [
    "ytest_pred = best_forest.predict(Xtest)\n",
    "rmse_test, mae_test = evaluate_model(ytest_pred, ytest)\n",
    "\n",
    "print(f\"Validation RMSE: {rmse_test:.5f}, MAE: {mae_test:.5f}\")"
   ],
   "id": "4ce6546a812d22a8",
   "outputs": [
    {
     "name": "stdout",
     "output_type": "stream",
     "text": [
      "Validation RMSE: 1.87034, MAE: 1.22128\n"
     ]
    }
   ],
   "execution_count": 28
  },
  {
   "metadata": {},
   "cell_type": "markdown",
   "source": "Generating Predictions and Saving Results",
   "id": "9a2397a517bb0902"
  },
  {
   "metadata": {
    "ExecuteTime": {
     "end_time": "2024-12-15T15:31:33.204503Z",
     "start_time": "2024-12-15T15:31:33.018214Z"
    }
   },
   "cell_type": "code",
   "source": [
    "import pandas as pd\n",
    "\n",
    "eval_data = pd.read_csv('evaluation.csv')\n",
    "\n",
    "object_columns = eval_data.select_dtypes(['object']).columns\n",
    "eval_data[object_columns] = eval_data[object_columns].astype('category').apply(lambda x: x.cat.codes)\n",
    "\n",
    "Xtrain, eval_data = fill_missing_values(Xtrain, eval_data, columns_to_check)\n",
    "\n",
    "predictions = best_forest.predict(eval_data)\n",
    "\n",
    "country_mapping = pd.read_csv('evaluation.csv')['Country'].astype('category')\n",
    "eval_data['Country'] = country_mapping\n",
    "\n",
    "eval_data['Life expectancy'] = predictions\n",
    "\n",
    "result_df = eval_data[['Country', 'Year', 'Life expectancy']]\n",
    "result_df.to_csv('results.csv', index=False)\n",
    "\n",
    "result_df.head()"
   ],
   "id": "33e0b9423b4016a4",
   "outputs": [
    {
     "data": {
      "text/plain": [
       "   Country  Year  Life expectancy\n",
       "0  Albania  2015        75.872648\n",
       "1  Albania  2014        75.278852\n",
       "2  Albania  2013        75.465791\n",
       "3  Albania  2012        75.288402\n",
       "4  Albania  2011        75.305839"
      ],
      "text/html": [
       "<div>\n",
       "<style scoped>\n",
       "    .dataframe tbody tr th:only-of-type {\n",
       "        vertical-align: middle;\n",
       "    }\n",
       "\n",
       "    .dataframe tbody tr th {\n",
       "        vertical-align: top;\n",
       "    }\n",
       "\n",
       "    .dataframe thead th {\n",
       "        text-align: right;\n",
       "    }\n",
       "</style>\n",
       "<table border=\"1\" class=\"dataframe\">\n",
       "  <thead>\n",
       "    <tr style=\"text-align: right;\">\n",
       "      <th></th>\n",
       "      <th>Country</th>\n",
       "      <th>Year</th>\n",
       "      <th>Life expectancy</th>\n",
       "    </tr>\n",
       "  </thead>\n",
       "  <tbody>\n",
       "    <tr>\n",
       "      <th>0</th>\n",
       "      <td>Albania</td>\n",
       "      <td>2015</td>\n",
       "      <td>75.872648</td>\n",
       "    </tr>\n",
       "    <tr>\n",
       "      <th>1</th>\n",
       "      <td>Albania</td>\n",
       "      <td>2014</td>\n",
       "      <td>75.278852</td>\n",
       "    </tr>\n",
       "    <tr>\n",
       "      <th>2</th>\n",
       "      <td>Albania</td>\n",
       "      <td>2013</td>\n",
       "      <td>75.465791</td>\n",
       "    </tr>\n",
       "    <tr>\n",
       "      <th>3</th>\n",
       "      <td>Albania</td>\n",
       "      <td>2012</td>\n",
       "      <td>75.288402</td>\n",
       "    </tr>\n",
       "    <tr>\n",
       "      <th>4</th>\n",
       "      <td>Albania</td>\n",
       "      <td>2011</td>\n",
       "      <td>75.305839</td>\n",
       "    </tr>\n",
       "  </tbody>\n",
       "</table>\n",
       "</div>"
      ]
     },
     "execution_count": 29,
     "metadata": {},
     "output_type": "execute_result"
    }
   ],
   "execution_count": 29
  }
 ],
 "metadata": {
  "kernelspec": {
   "display_name": "Python 3 (ipykernel)",
   "language": "python",
   "name": "python3"
  },
  "language_info": {
   "codemirror_mode": {
    "name": "ipython",
    "version": 3
   },
   "file_extension": ".py",
   "mimetype": "text/x-python",
   "name": "python",
   "nbconvert_exporter": "python",
   "pygments_lexer": "ipython3",
   "version": "3.10.1"
  }
 },
 "nbformat": 4,
 "nbformat_minor": 5
}
